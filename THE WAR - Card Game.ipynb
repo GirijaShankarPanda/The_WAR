{
 "cells": [
  {
   "cell_type": "markdown",
   "id": "54b75679",
   "metadata": {},
   "source": [
    "## <ins>THE WAR</ins> (Card Game) :"
   ]
  },
  {
   "cell_type": "markdown",
   "id": "ddfafb64",
   "metadata": {},
   "source": [
    "### `GLOBAL VARIABLE`"
   ]
  },
  {
   "cell_type": "code",
   "execution_count": 1,
   "id": "b432b657",
   "metadata": {},
   "outputs": [],
   "source": [
    "# SUIT,RANK,VALUE\n",
    "import random\n",
    "suits = ('Hearts', 'Diamond', 'Spades', 'Clubs')\n",
    "ranks = ('Two', 'Three', 'Four', 'Five', 'Six', 'Seven', 'Eight', 'Nine', 'Ten', 'Jack', 'Queen', 'King', 'Ace')\n",
    "values = {'Two':2, 'Three':3, 'Four':4, 'Five':5, 'Six':6, 'Seven':7, 'Eight':8, 'Nine':9, 'Ten':10, 'Jack':11, 'Queen':12, 'King':13, 'Ace':14}"
   ]
  },
  {
   "cell_type": "markdown",
   "id": "b6c33fb2",
   "metadata": {},
   "source": [
    "### `CARD CLASS`"
   ]
  },
  {
   "cell_type": "code",
   "execution_count": 2,
   "id": "82152b7f",
   "metadata": {},
   "outputs": [],
   "source": [
    "class Card():\n",
    "    \n",
    "    def __init__(self,suit,rank):\n",
    "        self.suit = suit\n",
    "        self.rank = rank\n",
    "        self.value = values[rank]\n",
    "        \n",
    "    def __str__(self):\n",
    "        return self.rank + \" of \" + self.suit"
   ]
  },
  {
   "cell_type": "markdown",
   "id": "cd77d1c2",
   "metadata": {},
   "source": [
    "#### Check"
   ]
  },
  {
   "cell_type": "code",
   "execution_count": 3,
   "id": "e1f9ca1c",
   "metadata": {},
   "outputs": [],
   "source": [
    "three_clubs = Card(\"Clubs\",\"Three\")"
   ]
  },
  {
   "cell_type": "code",
   "execution_count": 4,
   "id": "69cfc531",
   "metadata": {},
   "outputs": [],
   "source": [
    "two_hearts = Card(\"Hearts\",\"Two\")"
   ]
  },
  {
   "cell_type": "code",
   "execution_count": 5,
   "id": "5f5601c3",
   "metadata": {},
   "outputs": [
    {
     "data": {
      "text/plain": [
       "3"
      ]
     },
     "execution_count": 5,
     "metadata": {},
     "output_type": "execute_result"
    }
   ],
   "source": [
    "three_clubs.value"
   ]
  },
  {
   "cell_type": "code",
   "execution_count": 6,
   "id": "641cb7f3",
   "metadata": {},
   "outputs": [
    {
     "data": {
      "text/plain": [
       "'Three'"
      ]
     },
     "execution_count": 6,
     "metadata": {},
     "output_type": "execute_result"
    }
   ],
   "source": [
    "three_clubs.rank"
   ]
  },
  {
   "cell_type": "code",
   "execution_count": 7,
   "id": "f93d383d",
   "metadata": {},
   "outputs": [
    {
     "data": {
      "text/plain": [
       "True"
      ]
     },
     "execution_count": 7,
     "metadata": {},
     "output_type": "execute_result"
    }
   ],
   "source": [
    "two_hearts.value < three_clubs.value"
   ]
  },
  {
   "cell_type": "markdown",
   "id": "61ca4ca0",
   "metadata": {},
   "source": [
    "### `DECK CLASS`"
   ]
  },
  {
   "cell_type": "code",
   "execution_count": 8,
   "id": "0c01855b",
   "metadata": {},
   "outputs": [],
   "source": [
    "class Deck():\n",
    "    \n",
    "    def __init__(self):\n",
    "        \n",
    "        self.all_cards = []\n",
    "        \n",
    "        for suit in suits:\n",
    "            for rank in ranks:\n",
    "                # Create the Card Object\n",
    "                created_card = Card(suit,rank)\n",
    "                \n",
    "                self.all_cards.append(created_card)   \n",
    "            \n",
    "    def shuffle(self):\n",
    "        random.shuffle(self.all_cards)       "
   ]
  },
  {
   "cell_type": "markdown",
   "id": "ca67e5f6",
   "metadata": {},
   "source": [
    "#### Check\n",
    "**Printing all cards in the deck.**"
   ]
  },
  {
   "cell_type": "code",
   "execution_count": 9,
   "id": "c535ab5a",
   "metadata": {},
   "outputs": [],
   "source": [
    "new_deck = Deck()"
   ]
  },
  {
   "cell_type": "code",
   "execution_count": 10,
   "id": "d0100ce7",
   "metadata": {},
   "outputs": [
    {
     "name": "stdout",
     "output_type": "stream",
     "text": [
      "Two of Hearts\n",
      "Three of Hearts\n",
      "Four of Hearts\n",
      "Five of Hearts\n",
      "Six of Hearts\n",
      "Seven of Hearts\n",
      "Eight of Hearts\n",
      "Nine of Hearts\n",
      "Ten of Hearts\n",
      "Jack of Hearts\n",
      "Queen of Hearts\n",
      "King of Hearts\n",
      "Ace of Hearts\n",
      "Two of Diamond\n",
      "Three of Diamond\n",
      "Four of Diamond\n",
      "Five of Diamond\n",
      "Six of Diamond\n",
      "Seven of Diamond\n",
      "Eight of Diamond\n",
      "Nine of Diamond\n",
      "Ten of Diamond\n",
      "Jack of Diamond\n",
      "Queen of Diamond\n",
      "King of Diamond\n",
      "Ace of Diamond\n",
      "Two of Spades\n",
      "Three of Spades\n",
      "Four of Spades\n",
      "Five of Spades\n",
      "Six of Spades\n",
      "Seven of Spades\n",
      "Eight of Spades\n",
      "Nine of Spades\n",
      "Ten of Spades\n",
      "Jack of Spades\n",
      "Queen of Spades\n",
      "King of Spades\n",
      "Ace of Spades\n",
      "Two of Clubs\n",
      "Three of Clubs\n",
      "Four of Clubs\n",
      "Five of Clubs\n",
      "Six of Clubs\n",
      "Seven of Clubs\n",
      "Eight of Clubs\n",
      "Nine of Clubs\n",
      "Ten of Clubs\n",
      "Jack of Clubs\n",
      "Queen of Clubs\n",
      "King of Clubs\n",
      "Ace of Clubs\n"
     ]
    }
   ],
   "source": [
    "for card_object in new_deck.all_cards:\n",
    "    print(card_object)"
   ]
  },
  {
   "cell_type": "markdown",
   "id": "b2a69811",
   "metadata": {},
   "source": [
    "**printing a card after shuffle**"
   ]
  },
  {
   "cell_type": "code",
   "execution_count": 11,
   "id": "a4cb7c42",
   "metadata": {},
   "outputs": [],
   "source": [
    "new_deck.shuffle()"
   ]
  },
  {
   "cell_type": "code",
   "execution_count": 12,
   "id": "96fc2523",
   "metadata": {},
   "outputs": [
    {
     "name": "stdout",
     "output_type": "stream",
     "text": [
      "Seven of Diamond\n"
     ]
    }
   ],
   "source": [
    "# Card at the bottom of the Deck\n",
    "print(new_deck.all_cards[-1])"
   ]
  },
  {
   "cell_type": "code",
   "execution_count": 13,
   "id": "b37f8c24",
   "metadata": {},
   "outputs": [],
   "source": [
    "class Deck():\n",
    "    \n",
    "    def __init__(self):\n",
    "        \n",
    "        self.all_cards = []\n",
    "        \n",
    "        for suit in suits:\n",
    "            for rank in ranks:\n",
    "                # Create the Card Object\n",
    "                created_card = Card(suit,rank)\n",
    "                \n",
    "                self.all_cards.append(created_card)   \n",
    "            \n",
    "    def shuffle(self):\n",
    "        random.shuffle(self.all_cards)\n",
    "        \n",
    "    def deal_one(self):\n",
    "        return self.all_cards.pop()"
   ]
  },
  {
   "cell_type": "markdown",
   "id": "51416ede",
   "metadata": {},
   "source": [
    "#### Check"
   ]
  },
  {
   "cell_type": "code",
   "execution_count": 14,
   "id": "b0ee268e",
   "metadata": {},
   "outputs": [],
   "source": [
    "new_deck = Deck()"
   ]
  },
  {
   "cell_type": "code",
   "execution_count": 15,
   "id": "9f2ef3b4",
   "metadata": {},
   "outputs": [],
   "source": [
    "new_deck.shuffle()"
   ]
  },
  {
   "cell_type": "code",
   "execution_count": 16,
   "id": "d9960d6f",
   "metadata": {},
   "outputs": [],
   "source": [
    "mycard = new_deck.deal_one()"
   ]
  },
  {
   "cell_type": "code",
   "execution_count": 17,
   "id": "1afde0b2",
   "metadata": {},
   "outputs": [
    {
     "name": "stdout",
     "output_type": "stream",
     "text": [
      "Five of Diamond\n"
     ]
    }
   ],
   "source": [
    "print(mycard)"
   ]
  },
  {
   "cell_type": "code",
   "execution_count": 18,
   "id": "3dc3dfe2",
   "metadata": {},
   "outputs": [
    {
     "data": {
      "text/plain": [
       "51"
      ]
     },
     "execution_count": 18,
     "metadata": {},
     "output_type": "execute_result"
    }
   ],
   "source": [
    "len(new_deck.all_cards)"
   ]
  },
  {
   "cell_type": "markdown",
   "id": "cc866eac",
   "metadata": {},
   "source": [
    "### `PLAYER CLASS`"
   ]
  },
  {
   "cell_type": "code",
   "execution_count": 19,
   "id": "67e4da3a",
   "metadata": {},
   "outputs": [],
   "source": [
    "class Player():\n",
    "    \n",
    "    def __init__(self,name):\n",
    "        self.name = name\n",
    "        self.all_cards = []\n",
    "        \n",
    "    def remove_one(self):\n",
    "        return self.all_cards.pop(0)\n",
    "    \n",
    "    def add_cards(self,new_cards):\n",
    "        if type(new_cards) == type([]):\n",
    "            # List of multiple Card Object\n",
    "            self.all_cards.extend(new_cards)\n",
    "            \n",
    "        else:\n",
    "            # For a single Card Object\n",
    "            self.all_cards.append(new_cards)\n",
    "    \n",
    "    def __str__(self):\n",
    "        return f'Player {self.name} has {len(self.all_cards)} cards.'"
   ]
  },
  {
   "cell_type": "markdown",
   "id": "c659b2cb",
   "metadata": {},
   "source": [
    "#### Check"
   ]
  },
  {
   "cell_type": "code",
   "execution_count": 20,
   "id": "e7d8c2bb",
   "metadata": {},
   "outputs": [],
   "source": [
    "new_player = Player('John')"
   ]
  },
  {
   "cell_type": "code",
   "execution_count": 21,
   "id": "1fc99802",
   "metadata": {},
   "outputs": [
    {
     "name": "stdout",
     "output_type": "stream",
     "text": [
      "Player John has 0 cards.\n"
     ]
    }
   ],
   "source": [
    "print(new_player)"
   ]
  },
  {
   "cell_type": "code",
   "execution_count": 22,
   "id": "68ce91ee",
   "metadata": {},
   "outputs": [
    {
     "name": "stdout",
     "output_type": "stream",
     "text": [
      "Five of Diamond\n"
     ]
    }
   ],
   "source": [
    "print(mycard)"
   ]
  },
  {
   "cell_type": "code",
   "execution_count": 23,
   "id": "efb0d22f",
   "metadata": {},
   "outputs": [],
   "source": [
    "new_player.add_cards(mycard)"
   ]
  },
  {
   "cell_type": "code",
   "execution_count": 24,
   "id": "0839f859",
   "metadata": {},
   "outputs": [
    {
     "name": "stdout",
     "output_type": "stream",
     "text": [
      "Player John has 1 cards.\n"
     ]
    }
   ],
   "source": [
    "print(new_player)"
   ]
  },
  {
   "cell_type": "code",
   "execution_count": 25,
   "id": "747391eb",
   "metadata": {},
   "outputs": [
    {
     "name": "stdout",
     "output_type": "stream",
     "text": [
      "Five of Diamond\n"
     ]
    }
   ],
   "source": [
    "print(new_player.all_cards[0])"
   ]
  },
  {
   "cell_type": "code",
   "execution_count": 26,
   "id": "677ad316",
   "metadata": {},
   "outputs": [],
   "source": [
    "new_player.add_cards([mycard,mycard,mycard])"
   ]
  },
  {
   "cell_type": "code",
   "execution_count": 27,
   "id": "8e1db3ba",
   "metadata": {},
   "outputs": [
    {
     "name": "stdout",
     "output_type": "stream",
     "text": [
      "Player John has 4 cards.\n"
     ]
    }
   ],
   "source": [
    "print(new_player)"
   ]
  },
  {
   "cell_type": "code",
   "execution_count": 28,
   "id": "6aa45cd6",
   "metadata": {},
   "outputs": [
    {
     "data": {
      "text/plain": [
       "<__main__.Card at 0x1fa9f0757b0>"
      ]
     },
     "execution_count": 28,
     "metadata": {},
     "output_type": "execute_result"
    }
   ],
   "source": [
    "new_player.remove_one()"
   ]
  },
  {
   "cell_type": "code",
   "execution_count": 29,
   "id": "111b417d",
   "metadata": {},
   "outputs": [
    {
     "name": "stdout",
     "output_type": "stream",
     "text": [
      "Player John has 3 cards.\n"
     ]
    }
   ],
   "source": [
    "print(new_player)"
   ]
  },
  {
   "cell_type": "markdown",
   "id": "70ede124",
   "metadata": {},
   "source": [
    "# `GAME LOGIC`"
   ]
  },
  {
   "cell_type": "code",
   "execution_count": 33,
   "id": "793331b0",
   "metadata": {},
   "outputs": [],
   "source": [
    "# GAME SETUP\n",
    "player_one = Player(\"One\")\n",
    "player_two = Player(\"Two\")\n",
    "\n",
    "new_deck = Deck()\n",
    "new_deck.shuffle()\n",
    "\n",
    "for x in range(26):\n",
    "    player_one.add_cards(new_deck.deal_one())\n",
    "    player_two.add_cards(new_deck.deal_one())"
   ]
  },
  {
   "cell_type": "code",
   "execution_count": 34,
   "id": "b28bbd8c",
   "metadata": {},
   "outputs": [],
   "source": [
    "game_on = True"
   ]
  },
  {
   "cell_type": "code",
   "execution_count": 35,
   "id": "43d61139",
   "metadata": {},
   "outputs": [
    {
     "name": "stdout",
     "output_type": "stream",
     "text": [
      "Round 1\n",
      "Round 2\n",
      "Round 3\n",
      "Round 4\n",
      "Round 5\n",
      "Round 6\n",
      "Round 7\n",
      "Round 8\n",
      "Round 9\n",
      "Round 10\n",
      "Round 11\n",
      "Round 12\n",
      "Round 13\n",
      "Round 14\n",
      "Round 15\n",
      "Round 16\n",
      "Round 17\n",
      "WAR!\n",
      "Round 18\n",
      "Round 19\n",
      "Round 20\n",
      "Round 21\n",
      "Round 22\n",
      "Round 23\n",
      "Round 24\n",
      "Round 25\n",
      "Round 26\n",
      "Round 27\n",
      "Round 28\n",
      "Round 29\n",
      "Round 30\n",
      "Round 31\n",
      "Round 32\n",
      "WAR!\n",
      "WAR!\n",
      "WAR!\n",
      "Round 33\n",
      "Round 34\n",
      "Round 35\n",
      "Round 36\n",
      "Round 37\n",
      "Round 38\n",
      "Round 39\n",
      "Round 40\n",
      "Round 41\n",
      "Round 42\n",
      "Round 43\n",
      "Round 44\n",
      "Round 45\n",
      "Round 46\n",
      "Round 47\n",
      "Round 48\n",
      "Round 49\n",
      "Round 50\n",
      "Round 51\n",
      "Round 52\n",
      "Round 53\n",
      "Round 54\n",
      "Round 55\n",
      "Round 56\n",
      "Round 57\n",
      "Round 58\n",
      "Round 59\n",
      "Round 60\n",
      "Round 61\n",
      "Round 62\n",
      "Round 63\n",
      "Player One, out of cards! Player Two Wins!\n"
     ]
    }
   ],
   "source": [
    "round_num = 0\n",
    "\n",
    "while game_on:\n",
    "    round_num += 1\n",
    "    print(f'Round {round_num}')\n",
    "    \n",
    "    if len(player_one.all_cards) == 0:\n",
    "        print('Player One, out of cards! Player Two Wins!')\n",
    "        game_on = False\n",
    "        break\n",
    "        \n",
    "    if len(player_two.all_cards) == 0:\n",
    "        print('Player Two, out of cards! Player One Wins!')\n",
    "        game_on = False\n",
    "        break\n",
    "        \n",
    "    # START A NEW ROUND\n",
    "    player_one_cards = []\n",
    "    player_one_cards.append(player_one.remove_one())\n",
    "    \n",
    "    player_two_cards = []\n",
    "    player_two_cards.append(player_two.remove_one())\n",
    "    \n",
    "    # AT WAR\n",
    "    at_war = True\n",
    "    \n",
    "    while at_war:\n",
    "        if player_one_cards[-1].value > player_two_cards[-1].value:\n",
    "            \n",
    "            player_one.add_cards(player_one_cards)\n",
    "            player_one.add_cards(player_two_cards)\n",
    "            \n",
    "            at_war = False\n",
    "            \n",
    "        elif player_one_cards[-1].value < player_two_cards[-1].value:\n",
    "            \n",
    "            player_two.add_cards(player_one_cards)\n",
    "            player_two.add_cards(player_two_cards)\n",
    "            \n",
    "            at_war = False\n",
    "            \n",
    "        else:\n",
    "            print('WAR!')\n",
    "            \n",
    "            if len(player_one.all_cards) < 5:\n",
    "                print(\"Player One unable to declare War.\")\n",
    "                print(\"PLAYER TWO WINS!\")\n",
    "                game_on = False\n",
    "                break\n",
    "                \n",
    "            elif len(player_one.all_cards) < 5:\n",
    "                print(\"Player Two unable to declare War.\")\n",
    "                print(\"PLAYER ONE WINS!\")\n",
    "                game_on = False\n",
    "                break\n",
    "                \n",
    "            else:\n",
    "                for num in range(5):\n",
    "                    player_one_cards.append(player_one.remove_one())\n",
    "                    player_two_cards.append(player_two.remove_one())"
   ]
  }
 ],
 "metadata": {
  "kernelspec": {
   "display_name": "Python 3 (ipykernel)",
   "language": "python",
   "name": "python3"
  },
  "language_info": {
   "codemirror_mode": {
    "name": "ipython",
    "version": 3
   },
   "file_extension": ".py",
   "mimetype": "text/x-python",
   "name": "python",
   "nbconvert_exporter": "python",
   "pygments_lexer": "ipython3",
   "version": "3.10.9"
  }
 },
 "nbformat": 4,
 "nbformat_minor": 5
}
